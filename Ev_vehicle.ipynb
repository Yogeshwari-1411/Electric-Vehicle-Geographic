{
 "cells": [
  {
   "cell_type": "code",
   "execution_count": 3,
   "metadata": {},
   "outputs": [],
   "source": [
    "import numpy as np\n",
    "import pandas as pd\n",
    "\n",
    "import matplotlib.pyplot as plt\n",
    "import seaborn as sns"
   ]
  },
  {
   "cell_type": "code",
   "execution_count": 4,
   "metadata": {},
   "outputs": [],
   "source": [
    "df=pd.read_csv(\"ev_vehicle.csv\")"
   ]
  },
  {
   "cell_type": "code",
   "execution_count": 5,
   "metadata": {},
   "outputs": [
    {
     "data": {
      "text/html": [
       "<div>\n",
       "<style scoped>\n",
       "    .dataframe tbody tr th:only-of-type {\n",
       "        vertical-align: middle;\n",
       "    }\n",
       "\n",
       "    .dataframe tbody tr th {\n",
       "        vertical-align: top;\n",
       "    }\n",
       "\n",
       "    .dataframe thead th {\n",
       "        text-align: right;\n",
       "    }\n",
       "</style>\n",
       "<table border=\"1\" class=\"dataframe\">\n",
       "  <thead>\n",
       "    <tr style=\"text-align: right;\">\n",
       "      <th></th>\n",
       "      <th>State</th>\n",
       "      <th>Direction</th>\n",
       "      <th>Two Wheelers</th>\n",
       "      <th>Three Wheelers</th>\n",
       "      <th>Four Wheelers</th>\n",
       "      <th>Power Station</th>\n",
       "    </tr>\n",
       "  </thead>\n",
       "  <tbody>\n",
       "    <tr>\n",
       "      <th>0</th>\n",
       "      <td>Jammu Kashmir</td>\n",
       "      <td>North</td>\n",
       "      <td>2481.0</td>\n",
       "      <td>130.0</td>\n",
       "      <td>0.0</td>\n",
       "      <td>5.0</td>\n",
       "    </tr>\n",
       "    <tr>\n",
       "      <th>1</th>\n",
       "      <td>Arunachal Pradesh</td>\n",
       "      <td>North</td>\n",
       "      <td>1.0</td>\n",
       "      <td>1.0</td>\n",
       "      <td>0.0</td>\n",
       "      <td>2.0</td>\n",
       "    </tr>\n",
       "    <tr>\n",
       "      <th>2</th>\n",
       "      <td>Himachal Pradesh</td>\n",
       "      <td>North</td>\n",
       "      <td>879.0</td>\n",
       "      <td>172.0</td>\n",
       "      <td>0.0</td>\n",
       "      <td>7.0</td>\n",
       "    </tr>\n",
       "    <tr>\n",
       "      <th>3</th>\n",
       "      <td>The Dadra and Nagar Haveli and Daman and Diu</td>\n",
       "      <td>North</td>\n",
       "      <td>62.0</td>\n",
       "      <td>24.0</td>\n",
       "      <td>0.0</td>\n",
       "      <td>8.0</td>\n",
       "    </tr>\n",
       "    <tr>\n",
       "      <th>4</th>\n",
       "      <td>Ladakh</td>\n",
       "      <td>North</td>\n",
       "      <td>20.0</td>\n",
       "      <td>0.0</td>\n",
       "      <td>0.0</td>\n",
       "      <td>18.0</td>\n",
       "    </tr>\n",
       "    <tr>\n",
       "      <th>5</th>\n",
       "      <td>Punjab</td>\n",
       "      <td>North</td>\n",
       "      <td>8376.0</td>\n",
       "      <td>261.0</td>\n",
       "      <td>3.0</td>\n",
       "      <td>11.0</td>\n",
       "    </tr>\n",
       "    <tr>\n",
       "      <th>6</th>\n",
       "      <td>Haryana</td>\n",
       "      <td>North</td>\n",
       "      <td>12656.0</td>\n",
       "      <td>213.0</td>\n",
       "      <td>272.0</td>\n",
       "      <td>55.0</td>\n",
       "    </tr>\n",
       "    <tr>\n",
       "      <th>7</th>\n",
       "      <td>Chandigarh</td>\n",
       "      <td>North</td>\n",
       "      <td>622.0</td>\n",
       "      <td>76.0</td>\n",
       "      <td>0.0</td>\n",
       "      <td>6.0</td>\n",
       "    </tr>\n",
       "    <tr>\n",
       "      <th>8</th>\n",
       "      <td>Delhi</td>\n",
       "      <td>North</td>\n",
       "      <td>30323.0</td>\n",
       "      <td>9378.0</td>\n",
       "      <td>2239.0</td>\n",
       "      <td>322.0</td>\n",
       "    </tr>\n",
       "    <tr>\n",
       "      <th>9</th>\n",
       "      <td>Uttarakhand</td>\n",
       "      <td>North</td>\n",
       "      <td>4289.0</td>\n",
       "      <td>2789.0</td>\n",
       "      <td>21.0</td>\n",
       "      <td>6.0</td>\n",
       "    </tr>\n",
       "    <tr>\n",
       "      <th>10</th>\n",
       "      <td>Rajasthan</td>\n",
       "      <td>West</td>\n",
       "      <td>42421.0</td>\n",
       "      <td>1857.0</td>\n",
       "      <td>28.0</td>\n",
       "      <td>27.0</td>\n",
       "    </tr>\n",
       "    <tr>\n",
       "      <th>11</th>\n",
       "      <td>Gujarat</td>\n",
       "      <td>West</td>\n",
       "      <td>45360.0</td>\n",
       "      <td>1051.0</td>\n",
       "      <td>66.0</td>\n",
       "      <td>27.0</td>\n",
       "    </tr>\n",
       "    <tr>\n",
       "      <th>12</th>\n",
       "      <td>Maharashtra</td>\n",
       "      <td>West</td>\n",
       "      <td>91971.0</td>\n",
       "      <td>2607.0</td>\n",
       "      <td>483.0</td>\n",
       "      <td>88.0</td>\n",
       "    </tr>\n",
       "    <tr>\n",
       "      <th>13</th>\n",
       "      <td>Goa</td>\n",
       "      <td>West</td>\n",
       "      <td>3353.0</td>\n",
       "      <td>33.0</td>\n",
       "      <td>2.0</td>\n",
       "      <td>50.0</td>\n",
       "    </tr>\n",
       "    <tr>\n",
       "      <th>14</th>\n",
       "      <td>Uttar Pradesh</td>\n",
       "      <td>Central</td>\n",
       "      <td>21844.0</td>\n",
       "      <td>11283.0</td>\n",
       "      <td>27.0</td>\n",
       "      <td>108.0</td>\n",
       "    </tr>\n",
       "    <tr>\n",
       "      <th>15</th>\n",
       "      <td>Madhya Pradesh</td>\n",
       "      <td>Central</td>\n",
       "      <td>17415.0</td>\n",
       "      <td>3616.0</td>\n",
       "      <td>15.0</td>\n",
       "      <td>27.0</td>\n",
       "    </tr>\n",
       "    <tr>\n",
       "      <th>16</th>\n",
       "      <td>Bihar</td>\n",
       "      <td>East</td>\n",
       "      <td>9112.0</td>\n",
       "      <td>5253.0</td>\n",
       "      <td>2.0</td>\n",
       "      <td>3.0</td>\n",
       "    </tr>\n",
       "    <tr>\n",
       "      <th>17</th>\n",
       "      <td>Jharkhand</td>\n",
       "      <td>East</td>\n",
       "      <td>5334.0</td>\n",
       "      <td>923.0</td>\n",
       "      <td>53.0</td>\n",
       "      <td>7.0</td>\n",
       "    </tr>\n",
       "    <tr>\n",
       "      <th>18</th>\n",
       "      <td>Chhattisgarh</td>\n",
       "      <td>East</td>\n",
       "      <td>11527.0</td>\n",
       "      <td>2738.0</td>\n",
       "      <td>14.0</td>\n",
       "      <td>4.0</td>\n",
       "    </tr>\n",
       "    <tr>\n",
       "      <th>19</th>\n",
       "      <td>Odisha</td>\n",
       "      <td>East</td>\n",
       "      <td>18869.0</td>\n",
       "      <td>815.0</td>\n",
       "      <td>31.0</td>\n",
       "      <td>2.0</td>\n",
       "    </tr>\n",
       "    <tr>\n",
       "      <th>20</th>\n",
       "      <td>West Bengal</td>\n",
       "      <td>East</td>\n",
       "      <td>6346.0</td>\n",
       "      <td>1125.0</td>\n",
       "      <td>71.0</td>\n",
       "      <td>22.0</td>\n",
       "    </tr>\n",
       "    <tr>\n",
       "      <th>21</th>\n",
       "      <td>Andaman and Nicobar Islands</td>\n",
       "      <td>East</td>\n",
       "      <td>2.0</td>\n",
       "      <td>0.0</td>\n",
       "      <td>2.0</td>\n",
       "      <td>70.0</td>\n",
       "    </tr>\n",
       "    <tr>\n",
       "      <th>22</th>\n",
       "      <td>Telangana</td>\n",
       "      <td>South</td>\n",
       "      <td>23296.0</td>\n",
       "      <td>1560.0</td>\n",
       "      <td>225.0</td>\n",
       "      <td>65.0</td>\n",
       "    </tr>\n",
       "    <tr>\n",
       "      <th>23</th>\n",
       "      <td>Karnataka</td>\n",
       "      <td>South</td>\n",
       "      <td>83844.0</td>\n",
       "      <td>4310.0</td>\n",
       "      <td>891.0</td>\n",
       "      <td>58.0</td>\n",
       "    </tr>\n",
       "    <tr>\n",
       "      <th>24</th>\n",
       "      <td>Andhra Pradesh</td>\n",
       "      <td>South</td>\n",
       "      <td>22550.0</td>\n",
       "      <td>2230.0</td>\n",
       "      <td>2.0</td>\n",
       "      <td>138.0</td>\n",
       "    </tr>\n",
       "    <tr>\n",
       "      <th>25</th>\n",
       "      <td>Puducherry</td>\n",
       "      <td>South</td>\n",
       "      <td>1013.0</td>\n",
       "      <td>10.0</td>\n",
       "      <td>5.0</td>\n",
       "      <td>1.0</td>\n",
       "    </tr>\n",
       "    <tr>\n",
       "      <th>26</th>\n",
       "      <td>Kerala</td>\n",
       "      <td>South</td>\n",
       "      <td>22419.0</td>\n",
       "      <td>2489.0</td>\n",
       "      <td>11.0</td>\n",
       "      <td>57.0</td>\n",
       "    </tr>\n",
       "    <tr>\n",
       "      <th>27</th>\n",
       "      <td>Tamil Nadu</td>\n",
       "      <td>South</td>\n",
       "      <td>64996.0</td>\n",
       "      <td>1826.0</td>\n",
       "      <td>14.0</td>\n",
       "      <td>94.0</td>\n",
       "    </tr>\n",
       "    <tr>\n",
       "      <th>28</th>\n",
       "      <td>Lakshadweep</td>\n",
       "      <td>South</td>\n",
       "      <td>4.0</td>\n",
       "      <td>2.0</td>\n",
       "      <td>0.0</td>\n",
       "      <td>5.0</td>\n",
       "    </tr>\n",
       "    <tr>\n",
       "      <th>29</th>\n",
       "      <td>Meghalaya</td>\n",
       "      <td>North East</td>\n",
       "      <td>22.0</td>\n",
       "      <td>10.0</td>\n",
       "      <td>0.0</td>\n",
       "      <td>1.0</td>\n",
       "    </tr>\n",
       "    <tr>\n",
       "      <th>30</th>\n",
       "      <td>Assam</td>\n",
       "      <td>North East</td>\n",
       "      <td>1545.0</td>\n",
       "      <td>1204.0</td>\n",
       "      <td>1.0</td>\n",
       "      <td>7.0</td>\n",
       "    </tr>\n",
       "    <tr>\n",
       "      <th>31</th>\n",
       "      <td>Nagaland</td>\n",
       "      <td>North East</td>\n",
       "      <td>4.0</td>\n",
       "      <td>0.0</td>\n",
       "      <td>0.0</td>\n",
       "      <td>2.0</td>\n",
       "    </tr>\n",
       "    <tr>\n",
       "      <th>32</th>\n",
       "      <td>Manipur</td>\n",
       "      <td>North East</td>\n",
       "      <td>54.0</td>\n",
       "      <td>204.0</td>\n",
       "      <td>0.0</td>\n",
       "      <td>1.0</td>\n",
       "    </tr>\n",
       "    <tr>\n",
       "      <th>33</th>\n",
       "      <td>Tripura</td>\n",
       "      <td>North East</td>\n",
       "      <td>121.0</td>\n",
       "      <td>1734.0</td>\n",
       "      <td>0.0</td>\n",
       "      <td>2.0</td>\n",
       "    </tr>\n",
       "    <tr>\n",
       "      <th>34</th>\n",
       "      <td>Mizoram</td>\n",
       "      <td>North East</td>\n",
       "      <td>9.0</td>\n",
       "      <td>0.0</td>\n",
       "      <td>0.0</td>\n",
       "      <td>8.0</td>\n",
       "    </tr>\n",
       "    <tr>\n",
       "      <th>35</th>\n",
       "      <td>Sikkim</td>\n",
       "      <td>North East</td>\n",
       "      <td>5.0</td>\n",
       "      <td>1.0</td>\n",
       "      <td>0.0</td>\n",
       "      <td>4.0</td>\n",
       "    </tr>\n",
       "    <tr>\n",
       "      <th>36</th>\n",
       "      <td>Jaipur</td>\n",
       "      <td>North East</td>\n",
       "      <td>13456.0</td>\n",
       "      <td>150.0</td>\n",
       "      <td>556.0</td>\n",
       "      <td>50.0</td>\n",
       "    </tr>\n",
       "    <tr>\n",
       "      <th>37</th>\n",
       "      <td>NaN</td>\n",
       "      <td>NaN</td>\n",
       "      <td>NaN</td>\n",
       "      <td>NaN</td>\n",
       "      <td>NaN</td>\n",
       "      <td>NaN</td>\n",
       "    </tr>\n",
       "  </tbody>\n",
       "</table>\n",
       "</div>"
      ],
      "text/plain": [
       "                                           State   Direction  Two Wheelers  \\\n",
       "0                                  Jammu Kashmir       North        2481.0   \n",
       "1                              Arunachal Pradesh       North           1.0   \n",
       "2                               Himachal Pradesh       North         879.0   \n",
       "3   The Dadra and Nagar Haveli and Daman and Diu       North          62.0   \n",
       "4                                         Ladakh       North          20.0   \n",
       "5                                         Punjab       North        8376.0   \n",
       "6                                        Haryana       North       12656.0   \n",
       "7                                     Chandigarh       North         622.0   \n",
       "8                                          Delhi       North       30323.0   \n",
       "9                                    Uttarakhand       North        4289.0   \n",
       "10                                     Rajasthan        West       42421.0   \n",
       "11                                       Gujarat        West       45360.0   \n",
       "12                                   Maharashtra        West       91971.0   \n",
       "13                                           Goa        West        3353.0   \n",
       "14                                 Uttar Pradesh     Central       21844.0   \n",
       "15                                Madhya Pradesh     Central       17415.0   \n",
       "16                                         Bihar        East        9112.0   \n",
       "17                                     Jharkhand        East        5334.0   \n",
       "18                                  Chhattisgarh        East       11527.0   \n",
       "19                                        Odisha        East       18869.0   \n",
       "20                                   West Bengal        East        6346.0   \n",
       "21                   Andaman and Nicobar Islands        East           2.0   \n",
       "22                                     Telangana       South       23296.0   \n",
       "23                                     Karnataka       South       83844.0   \n",
       "24                                Andhra Pradesh       South       22550.0   \n",
       "25                                    Puducherry       South        1013.0   \n",
       "26                                        Kerala       South       22419.0   \n",
       "27                                    Tamil Nadu       South       64996.0   \n",
       "28                                   Lakshadweep       South           4.0   \n",
       "29                                     Meghalaya  North East          22.0   \n",
       "30                                         Assam  North East        1545.0   \n",
       "31                                      Nagaland  North East           4.0   \n",
       "32                                       Manipur  North East          54.0   \n",
       "33                                       Tripura  North East         121.0   \n",
       "34                                       Mizoram  North East           9.0   \n",
       "35                                        Sikkim  North East           5.0   \n",
       "36                                        Jaipur  North East       13456.0   \n",
       "37                                           NaN         NaN           NaN   \n",
       "\n",
       "    Three Wheelers  Four Wheelers  Power Station  \n",
       "0            130.0            0.0            5.0  \n",
       "1              1.0            0.0            2.0  \n",
       "2            172.0            0.0            7.0  \n",
       "3             24.0            0.0            8.0  \n",
       "4              0.0            0.0           18.0  \n",
       "5            261.0            3.0           11.0  \n",
       "6            213.0          272.0           55.0  \n",
       "7             76.0            0.0            6.0  \n",
       "8           9378.0         2239.0          322.0  \n",
       "9           2789.0           21.0            6.0  \n",
       "10          1857.0           28.0           27.0  \n",
       "11          1051.0           66.0           27.0  \n",
       "12          2607.0          483.0           88.0  \n",
       "13            33.0            2.0           50.0  \n",
       "14         11283.0           27.0          108.0  \n",
       "15          3616.0           15.0           27.0  \n",
       "16          5253.0            2.0            3.0  \n",
       "17           923.0           53.0            7.0  \n",
       "18          2738.0           14.0            4.0  \n",
       "19           815.0           31.0            2.0  \n",
       "20          1125.0           71.0           22.0  \n",
       "21             0.0            2.0           70.0  \n",
       "22          1560.0          225.0           65.0  \n",
       "23          4310.0          891.0           58.0  \n",
       "24          2230.0            2.0          138.0  \n",
       "25            10.0            5.0            1.0  \n",
       "26          2489.0           11.0           57.0  \n",
       "27          1826.0           14.0           94.0  \n",
       "28             2.0            0.0            5.0  \n",
       "29            10.0            0.0            1.0  \n",
       "30          1204.0            1.0            7.0  \n",
       "31             0.0            0.0            2.0  \n",
       "32           204.0            0.0            1.0  \n",
       "33          1734.0            0.0            2.0  \n",
       "34             0.0            0.0            8.0  \n",
       "35             1.0            0.0            4.0  \n",
       "36           150.0          556.0           50.0  \n",
       "37             NaN            NaN            NaN  "
      ]
     },
     "execution_count": 5,
     "metadata": {},
     "output_type": "execute_result"
    }
   ],
   "source": [
    "df"
   ]
  },
  {
   "cell_type": "code",
   "execution_count": 6,
   "metadata": {},
   "outputs": [
    {
     "data": {
      "text/html": [
       "<div>\n",
       "<style scoped>\n",
       "    .dataframe tbody tr th:only-of-type {\n",
       "        vertical-align: middle;\n",
       "    }\n",
       "\n",
       "    .dataframe tbody tr th {\n",
       "        vertical-align: top;\n",
       "    }\n",
       "\n",
       "    .dataframe thead th {\n",
       "        text-align: right;\n",
       "    }\n",
       "</style>\n",
       "<table border=\"1\" class=\"dataframe\">\n",
       "  <thead>\n",
       "    <tr style=\"text-align: right;\">\n",
       "      <th></th>\n",
       "      <th>State</th>\n",
       "      <th>Direction</th>\n",
       "      <th>Two Wheelers</th>\n",
       "      <th>Three Wheelers</th>\n",
       "      <th>Four Wheelers</th>\n",
       "      <th>Power Station</th>\n",
       "    </tr>\n",
       "  </thead>\n",
       "  <tbody>\n",
       "    <tr>\n",
       "      <th>0</th>\n",
       "      <td>Jammu Kashmir</td>\n",
       "      <td>North</td>\n",
       "      <td>2481.0</td>\n",
       "      <td>130.0</td>\n",
       "      <td>0.0</td>\n",
       "      <td>5.0</td>\n",
       "    </tr>\n",
       "    <tr>\n",
       "      <th>1</th>\n",
       "      <td>Arunachal Pradesh</td>\n",
       "      <td>North</td>\n",
       "      <td>1.0</td>\n",
       "      <td>1.0</td>\n",
       "      <td>0.0</td>\n",
       "      <td>2.0</td>\n",
       "    </tr>\n",
       "    <tr>\n",
       "      <th>2</th>\n",
       "      <td>Himachal Pradesh</td>\n",
       "      <td>North</td>\n",
       "      <td>879.0</td>\n",
       "      <td>172.0</td>\n",
       "      <td>0.0</td>\n",
       "      <td>7.0</td>\n",
       "    </tr>\n",
       "    <tr>\n",
       "      <th>3</th>\n",
       "      <td>The Dadra and Nagar Haveli and Daman and Diu</td>\n",
       "      <td>North</td>\n",
       "      <td>62.0</td>\n",
       "      <td>24.0</td>\n",
       "      <td>0.0</td>\n",
       "      <td>8.0</td>\n",
       "    </tr>\n",
       "    <tr>\n",
       "      <th>4</th>\n",
       "      <td>Ladakh</td>\n",
       "      <td>North</td>\n",
       "      <td>20.0</td>\n",
       "      <td>0.0</td>\n",
       "      <td>0.0</td>\n",
       "      <td>18.0</td>\n",
       "    </tr>\n",
       "  </tbody>\n",
       "</table>\n",
       "</div>"
      ],
      "text/plain": [
       "                                          State Direction  Two Wheelers  \\\n",
       "0                                 Jammu Kashmir     North        2481.0   \n",
       "1                             Arunachal Pradesh     North           1.0   \n",
       "2                              Himachal Pradesh     North         879.0   \n",
       "3  The Dadra and Nagar Haveli and Daman and Diu     North          62.0   \n",
       "4                                        Ladakh     North          20.0   \n",
       "\n",
       "   Three Wheelers  Four Wheelers  Power Station  \n",
       "0           130.0            0.0            5.0  \n",
       "1             1.0            0.0            2.0  \n",
       "2           172.0            0.0            7.0  \n",
       "3            24.0            0.0            8.0  \n",
       "4             0.0            0.0           18.0  "
      ]
     },
     "execution_count": 6,
     "metadata": {},
     "output_type": "execute_result"
    }
   ],
   "source": [
    "df.head()"
   ]
  },
  {
   "cell_type": "code",
   "execution_count": 7,
   "metadata": {},
   "outputs": [
    {
     "data": {
      "text/html": [
       "<div>\n",
       "<style scoped>\n",
       "    .dataframe tbody tr th:only-of-type {\n",
       "        vertical-align: middle;\n",
       "    }\n",
       "\n",
       "    .dataframe tbody tr th {\n",
       "        vertical-align: top;\n",
       "    }\n",
       "\n",
       "    .dataframe thead th {\n",
       "        text-align: right;\n",
       "    }\n",
       "</style>\n",
       "<table border=\"1\" class=\"dataframe\">\n",
       "  <thead>\n",
       "    <tr style=\"text-align: right;\">\n",
       "      <th></th>\n",
       "      <th>State</th>\n",
       "      <th>Direction</th>\n",
       "      <th>Two Wheelers</th>\n",
       "      <th>Three Wheelers</th>\n",
       "      <th>Four Wheelers</th>\n",
       "      <th>Power Station</th>\n",
       "    </tr>\n",
       "  </thead>\n",
       "  <tbody>\n",
       "    <tr>\n",
       "      <th>33</th>\n",
       "      <td>Tripura</td>\n",
       "      <td>North East</td>\n",
       "      <td>121.0</td>\n",
       "      <td>1734.0</td>\n",
       "      <td>0.0</td>\n",
       "      <td>2.0</td>\n",
       "    </tr>\n",
       "    <tr>\n",
       "      <th>34</th>\n",
       "      <td>Mizoram</td>\n",
       "      <td>North East</td>\n",
       "      <td>9.0</td>\n",
       "      <td>0.0</td>\n",
       "      <td>0.0</td>\n",
       "      <td>8.0</td>\n",
       "    </tr>\n",
       "    <tr>\n",
       "      <th>35</th>\n",
       "      <td>Sikkim</td>\n",
       "      <td>North East</td>\n",
       "      <td>5.0</td>\n",
       "      <td>1.0</td>\n",
       "      <td>0.0</td>\n",
       "      <td>4.0</td>\n",
       "    </tr>\n",
       "    <tr>\n",
       "      <th>36</th>\n",
       "      <td>Jaipur</td>\n",
       "      <td>North East</td>\n",
       "      <td>13456.0</td>\n",
       "      <td>150.0</td>\n",
       "      <td>556.0</td>\n",
       "      <td>50.0</td>\n",
       "    </tr>\n",
       "    <tr>\n",
       "      <th>37</th>\n",
       "      <td>NaN</td>\n",
       "      <td>NaN</td>\n",
       "      <td>NaN</td>\n",
       "      <td>NaN</td>\n",
       "      <td>NaN</td>\n",
       "      <td>NaN</td>\n",
       "    </tr>\n",
       "  </tbody>\n",
       "</table>\n",
       "</div>"
      ],
      "text/plain": [
       "      State   Direction  Two Wheelers  Three Wheelers  Four Wheelers  \\\n",
       "33  Tripura  North East         121.0          1734.0            0.0   \n",
       "34  Mizoram  North East           9.0             0.0            0.0   \n",
       "35   Sikkim  North East           5.0             1.0            0.0   \n",
       "36   Jaipur  North East       13456.0           150.0          556.0   \n",
       "37      NaN         NaN           NaN             NaN            NaN   \n",
       "\n",
       "    Power Station  \n",
       "33            2.0  \n",
       "34            8.0  \n",
       "35            4.0  \n",
       "36           50.0  \n",
       "37            NaN  "
      ]
     },
     "execution_count": 7,
     "metadata": {},
     "output_type": "execute_result"
    }
   ],
   "source": [
    "df.tail()"
   ]
  },
  {
   "cell_type": "code",
   "execution_count": 8,
   "metadata": {},
   "outputs": [
    {
     "name": "stdout",
     "output_type": "stream",
     "text": [
      "<class 'pandas.core.frame.DataFrame'>\n",
      "RangeIndex: 38 entries, 0 to 37\n",
      "Data columns (total 6 columns):\n",
      " #   Column          Non-Null Count  Dtype  \n",
      "---  ------          --------------  -----  \n",
      " 0   State           37 non-null     object \n",
      " 1   Direction       37 non-null     object \n",
      " 2   Two Wheelers    37 non-null     float64\n",
      " 3   Three Wheelers  37 non-null     float64\n",
      " 4   Four Wheelers   37 non-null     float64\n",
      " 5   Power Station   37 non-null     float64\n",
      "dtypes: float64(4), object(2)\n",
      "memory usage: 1.9+ KB\n"
     ]
    }
   ],
   "source": [
    "df.info()"
   ]
  },
  {
   "cell_type": "code",
   "execution_count": 9,
   "metadata": {},
   "outputs": [
    {
     "data": {
      "text/plain": [
       "(38, 6)"
      ]
     },
     "execution_count": 9,
     "metadata": {},
     "output_type": "execute_result"
    }
   ],
   "source": [
    "df.shape"
   ]
  },
  {
   "cell_type": "code",
   "execution_count": 10,
   "metadata": {},
   "outputs": [
    {
     "data": {
      "text/plain": [
       "False"
      ]
     },
     "execution_count": 10,
     "metadata": {},
     "output_type": "execute_result"
    }
   ],
   "source": [
    "df.isnull==True"
   ]
  },
  {
   "cell_type": "code",
   "execution_count": 11,
   "metadata": {},
   "outputs": [
    {
     "data": {
      "text/plain": [
       "State             37\n",
       "Direction         37\n",
       "Two Wheelers      37\n",
       "Three Wheelers    37\n",
       "Four Wheelers     37\n",
       "Power Station     37\n",
       "dtype: int64"
      ]
     },
     "execution_count": 11,
     "metadata": {},
     "output_type": "execute_result"
    }
   ],
   "source": [
    "df.count()"
   ]
  },
  {
   "cell_type": "code",
   "execution_count": 12,
   "metadata": {},
   "outputs": [
    {
     "name": "stdout",
     "output_type": "stream",
     "text": [
      "State             1\n",
      "Direction         1\n",
      "Two Wheelers      1\n",
      "Three Wheelers    1\n",
      "Four Wheelers     1\n",
      "Power Station     1\n",
      "dtype: int64\n"
     ]
    }
   ],
   "source": [
    "print(pd.isnull(df).sum())"
   ]
  },
  {
   "cell_type": "code",
   "execution_count": 13,
   "metadata": {},
   "outputs": [
    {
     "data": {
      "text/html": [
       "<div>\n",
       "<style scoped>\n",
       "    .dataframe tbody tr th:only-of-type {\n",
       "        vertical-align: middle;\n",
       "    }\n",
       "\n",
       "    .dataframe tbody tr th {\n",
       "        vertical-align: top;\n",
       "    }\n",
       "\n",
       "    .dataframe thead th {\n",
       "        text-align: right;\n",
       "    }\n",
       "</style>\n",
       "<table border=\"1\" class=\"dataframe\">\n",
       "  <thead>\n",
       "    <tr style=\"text-align: right;\">\n",
       "      <th></th>\n",
       "      <th>Two Wheelers</th>\n",
       "      <th>Three Wheelers</th>\n",
       "      <th>Four Wheelers</th>\n",
       "      <th>Power Station</th>\n",
       "    </tr>\n",
       "  </thead>\n",
       "  <tbody>\n",
       "    <tr>\n",
       "      <th>Two Wheelers</th>\n",
       "      <td>1.000000</td>\n",
       "      <td>0.377678</td>\n",
       "      <td>0.400837</td>\n",
       "      <td>0.422867</td>\n",
       "    </tr>\n",
       "    <tr>\n",
       "      <th>Three Wheelers</th>\n",
       "      <td>0.377678</td>\n",
       "      <td>1.000000</td>\n",
       "      <td>0.528229</td>\n",
       "      <td>0.650436</td>\n",
       "    </tr>\n",
       "    <tr>\n",
       "      <th>Four Wheelers</th>\n",
       "      <td>0.400837</td>\n",
       "      <td>0.528229</td>\n",
       "      <td>1.000000</td>\n",
       "      <td>0.809382</td>\n",
       "    </tr>\n",
       "    <tr>\n",
       "      <th>Power Station</th>\n",
       "      <td>0.422867</td>\n",
       "      <td>0.650436</td>\n",
       "      <td>0.809382</td>\n",
       "      <td>1.000000</td>\n",
       "    </tr>\n",
       "  </tbody>\n",
       "</table>\n",
       "</div>"
      ],
      "text/plain": [
       "                Two Wheelers  Three Wheelers  Four Wheelers  Power Station\n",
       "Two Wheelers        1.000000        0.377678       0.400837       0.422867\n",
       "Three Wheelers      0.377678        1.000000       0.528229       0.650436\n",
       "Four Wheelers       0.400837        0.528229       1.000000       0.809382\n",
       "Power Station       0.422867        0.650436       0.809382       1.000000"
      ]
     },
     "execution_count": 13,
     "metadata": {},
     "output_type": "execute_result"
    }
   ],
   "source": [
    "df.corr()"
   ]
  },
  {
   "cell_type": "code",
   "execution_count": 36,
   "metadata": {},
   "outputs": [
    {
     "data": {
      "text/plain": [
       "Index(['State', 'Direction', 'Two Wheelers', 'Three Wheelers', 'Four Wheelers',\n",
       "       'Power Station'],\n",
       "      dtype='object')"
      ]
     },
     "execution_count": 36,
     "metadata": {},
     "output_type": "execute_result"
    }
   ],
   "source": [
    "df.columns"
   ]
  },
  {
   "cell_type": "code",
   "execution_count": 38,
   "metadata": {},
   "outputs": [
    {
     "data": {
      "image/png": "[encoded data removed]",
      "text/plain": [
       "<Figure size 432x288 with 1 Axes>"
      ]
     },
     "metadata": {
      "needs_background": "light"
     },
     "output_type": "display_data"
    }
   ],
   "source": [
    "sns.countplot(x=df[\"Two Wheelers\"])\n",
    "plt.title(\"Count Plot of Two Wheelers\")\n",
    "plt.xlabel('Two Wheelers')\n",
    "plt.ylabel('Count')\n",
    "plt.show()"
   ]
  },
  {
   "cell_type": "code",
   "execution_count": 49,
   "metadata": {},
   "outputs": [
    {
     "data": {
      "image/png": "[encoded data removed]",
      "text/plain": [
       "<Figure size 432x288 with 1 Axes>"
      ]
     },
     "metadata": {
      "needs_background": "light"
     },
     "output_type": "display_data"
    }
   ],
   "source": [
    "sns.countplot(x=df[\"Three Wheelers\"])\n",
    "plt.title(\"Count Plot of Three Wheelers\")\n",
    "plt.xlabel('Three Wheelers')\n",
    "plt.ylabel('Count')\n",
    "plt.show()"
   ]
  },
  {
   "cell_type": "code",
   "execution_count": 50,
   "metadata": {},
   "outputs": [
    {
     "data": {
      "image/png": "[encoded data removed]",
      "text/plain": [
       "<Figure size 432x288 with 1 Axes>"
      ]
     },
     "metadata": {
      "needs_background": "light"
     },
     "output_type": "display_data"
    }
   ],
   "source": [
    "sns.countplot(x=df[\"Four Wheelers\"])\n",
    "plt.title(\"Count Plot of Four Wheelers\")\n",
    "plt.xlabel('Four Wheelers')\n",
    "plt.ylabel('Count')\n",
    "plt.show()"
   ]
  },
  {
   "cell_type": "code",
   "execution_count": 51,
   "metadata": {},
   "outputs": [
    {
     "data": {
      "image/png": "[encoded data removed]",
      "text/plain": [
       "<Figure size 432x288 with 1 Axes>"
      ]
     },
     "metadata": {
      "needs_background": "light"
     },
     "output_type": "display_data"
    }
   ],
   "source": [
    "sns.countplot(x=df[\"Power Station\"])\n",
    "plt.title(\"Count Plot of Power Station\")\n",
    "plt.xlabel('Power Station')\n",
    "plt.ylabel('Count')\n",
    "plt.show()"
   ]
  },
  {
   "cell_type": "code",
   "execution_count": 55,
   "metadata": {},
   "outputs": [
    {
     "data": {
      "image/png": "[encoded data removed]",
      "text/plain": [
       "<Figure size 432x288 with 1 Axes>"
      ]
     },
     "metadata": {
      "needs_background": "light"
     },
     "output_type": "display_data"
    }
   ],
   "source": [
    "sns.distplot(df[\"Two Wheelers\"])\n",
    "plt.title(\"Dist Plot of Two Wheelers\")\n",
    "plt.xlabel('Two Wheelers')\n",
    "plt.ylabel('Count')\n",
    "plt.show()"
   ]
  },
  {
   "cell_type": "code",
   "execution_count": 56,
   "metadata": {},
   "outputs": [
    {
     "data": {
      "image/png": "[encoded data removed]",
      "text/plain": [
       "<Figure size 432x288 with 1 Axes>"
      ]
     },
     "metadata": {
      "needs_background": "light"
     },
     "output_type": "display_data"
    }
   ],
   "source": [
    "sns.distplot(df[\"Three Wheelers\"])\n",
    "plt.title(\"Dist Plot of Three Wheelers\")\n",
    "plt.xlabel('Three Wheelers')\n",
    "plt.ylabel('Count')\n",
    "plt.show()"
   ]
  },
  {
   "cell_type": "code",
   "execution_count": 57,
   "metadata": {},
   "outputs": [
    {
     "data": {
      "image/png": "[encoded data removed]",
      "text/plain": [
       "<Figure size 432x288 with 1 Axes>"
      ]
     },
     "metadata": {
      "needs_background": "light"
     },
     "output_type": "display_data"
    }
   ],
   "source": [
    "sns.distplot(df[\"Four Wheelers\"])\n",
    "plt.title(\"Dist Plot of Four Wheelers\")\n",
    "plt.xlabel('Four Wheelers')\n",
    "plt.ylabel('Count')\n",
    "plt.show()"
   ]
  },
  {
   "cell_type": "code",
   "execution_count": 58,
   "metadata": {},
   "outputs": [
    {
     "data": {
      "image/png": "[encoded data removed]",
      "text/plain": [
       "<Figure size 432x288 with 1 Axes>"
      ]
     },
     "metadata": {
      "needs_background": "light"
     },
     "output_type": "display_data"
    }
   ],
   "source": [
    "sns.distplot(df[\"Power Station\"])\n",
    "plt.title(\"Dist Plot of Power Station\")\n",
    "plt.xlabel('Power Station')\n",
    "plt.ylabel('Count')\n",
    "plt.show()"
   ]
  },
  {
   "cell_type": "code",
   "execution_count": null,
   "metadata": {},
   "outputs": [],
   "source": []
  }
 ],
 "metadata": {
  "kernelspec": {
   "display_name": "Python 3",
   "language": "python",
   "name": "python3"
  },
  "language_info": {
   "codemirror_mode": {
    "name": "ipython",
    "version": 3
   },
   "file_extension": ".py",
   "mimetype": "text/x-python",
   "name": "python",
   "nbconvert_exporter": "python",
   "pygments_lexer": "ipython3",
   "version": "3.8.3"
  }
 },
 "nbformat": 4,
 "nbformat_minor": 4
}
